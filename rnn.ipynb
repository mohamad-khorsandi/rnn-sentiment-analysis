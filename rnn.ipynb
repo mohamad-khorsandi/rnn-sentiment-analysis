{
  "nbformat": 4,
  "nbformat_minor": 0,
  "metadata": {
    "colab": {
      "provenance": [],
      "gpuType": "T4"
    },
    "kernelspec": {
      "name": "python3",
      "display_name": "Python 3"
    },
    "language_info": {
      "name": "python"
    },
    "accelerator": "GPU"
  },
  "cells": [
    {
      "cell_type": "code",
      "execution_count": null,
      "metadata": {
        "id": "VeDmI_53SsRw"
      },
      "outputs": [],
      "source": [
        "import pandas as pd\n",
        "import re\n",
        "from nltk.tokenize import RegexpTokenizer\n",
        "from nltk.stem import WordNetLemmatizer\n",
        "import nltk\n",
        "from sklearn.model_selection import train_test_split\n",
        "from pandas import DataFrame\n",
        "import torch\n",
        "import torch.nn as nn\n",
        "import torch.optim as optim\n",
        "import gensim\n",
        "from collections import Counter\n",
        "from torch.utils.data import DataLoader, Dataset\n",
        "import gensim.downloader as api\n",
        "from google.colab import drive\n",
        "import matplotlib.pyplot as plt\n",
        "from sklearn.metrics import classification_report, accuracy_score\n",
        "from nltk.tokenize import word_tokenize\n",
        "from nltk.corpus import stopwords"
      ]
    },
    {
      "cell_type": "code",
      "source": [
        "! gdown 1fS5_C3_zSlnP0XIiv7BkN-sfd_Qun0tE;\n",
        "!  unzip HW3-1403.zip;"
      ],
      "metadata": {
        "colab": {
          "base_uri": "https://localhost:8080/"
        },
        "id": "5WGzDSm3tkIy",
        "outputId": "270c3bae-a4e4-4cde-8d3a-05eeb2ce5fee"
      },
      "execution_count": null,
      "outputs": [
        {
          "output_type": "stream",
          "name": "stdout",
          "text": [
            "Downloading...\n",
            "From (original): https://drive.google.com/uc?id=1fS5_C3_zSlnP0XIiv7BkN-sfd_Qun0tE\n",
            "From (redirected): https://drive.google.com/uc?id=1fS5_C3_zSlnP0XIiv7BkN-sfd_Qun0tE&confirm=t&uuid=4d3d5c0e-e733-4ad8-b26d-9c8a4cd2235e\n",
            "To: /content/HW3-1403.zip\n",
            "100% 76.7M/76.7M [00:00<00:00, 134MB/s]\n",
            "Archive:  HW3-1403.zip\n",
            "   creating: HW3-1403/\n",
            "  inflating: HW3-1403/NLP_HW3.pdf    \n",
            "  inflating: HW3-1403/sentiment140.csv  \n"
          ]
        }
      ]
    },
    {
      "cell_type": "markdown",
      "source": [
        "# preprocess"
      ],
      "metadata": {
        "id": "9Q2M7zwzS25e"
      }
    },
    {
      "cell_type": "code",
      "source": [
        "data: DataFrame = pd.read_csv('/content/HW3-1403/sentiment140.csv')\n",
        "data.drop(columns=['date', 'user', 'query'], inplace=True)\n",
        "data['sentiment'] = data['sentiment'].map({0: 0, 4: 1})"
      ],
      "metadata": {
        "id": "zOy6jYwOS5DW"
      },
      "execution_count": null,
      "outputs": []
    },
    {
      "cell_type": "code",
      "source": [
        "nltk.download('wordnet')\n",
        "nltk.download('punkt')\n",
        "wnl = WordNetLemmatizer()\n",
        "\n",
        "def preproc(text: str) -> list[str]:\n",
        "    text = re.sub(r'@[^\\s]+', 'MENTION', text)\n",
        "    text = re.sub(r'http\\S*|www\\S*|https\\S*', 'URL', text, flags=re.MULTILINE)\n",
        "    text = re.sub(r'#[^\\s]+', 'HASHTAG', text)\n",
        "    return text\n",
        "\n",
        "def lemmatize_tokens(tokens):\n",
        "    return [wnl.lemmatize(token) for token in tokens]\n",
        "\n",
        "data['text'] = data['text'].apply(preproc)\n",
        "data['text'] = data['text'].apply(lambda x: x.split(\" \"))\n",
        "data['text'] = data['text'].apply(lemmatize_tokens)"
      ],
      "metadata": {
        "id": "TscBflYzTp68",
        "colab": {
          "base_uri": "https://localhost:8080/"
        },
        "outputId": "b3ec0875-9eda-4f4c-f460-799e4c0d06e8"
      },
      "execution_count": null,
      "outputs": [
        {
          "output_type": "stream",
          "name": "stderr",
          "text": [
            "[nltk_data] Downloading package wordnet to /root/nltk_data...\n",
            "[nltk_data]   Package wordnet is already up-to-date!\n",
            "[nltk_data] Downloading package punkt to /root/nltk_data...\n",
            "[nltk_data]   Package punkt is already up-to-date!\n"
          ]
        }
      ]
    },
    {
      "cell_type": "code",
      "source": [
        "data['text'][0:20]"
      ],
      "metadata": {
        "colab": {
          "base_uri": "https://localhost:8080/"
        },
        "id": "ywS-lvaNt0I5",
        "outputId": "0bed16a1-09a2-41ad-aea6-2444a767ad34"
      },
      "execution_count": null,
      "outputs": [
        {
          "output_type": "execute_result",
          "data": {
            "text/plain": [
              "0     [MENTION, URL, -, AURL, that's, a, bummer., , ...\n",
              "1     [is, upset, that, he, can't, update, his, Face...\n",
              "2     [MENTION, I, dived, many, time, for, the, ball...\n",
              "3     [my, whole, body, feel, itchy, and, like, it, ...\n",
              "4     [MENTION, no,, it's, not, behaving, at, all., ...\n",
              "5                    [MENTION, not, the, whole, crew, ]\n",
              "6                                      [Need, a, hug, ]\n",
              "7     [MENTION, hey, , long, time, no, see!, Yes.., ...\n",
              "8             [MENTION, nope, they, didn't, have, it, ]\n",
              "9                        [MENTION, que, me, muera, ?, ]\n",
              "10    [spring, break, in, plain, city..., it's, snow...\n",
              "11                     [I, just, re-pierced, my, ear, ]\n",
              "12    [MENTION, I, couldn't, bear, to, watch, it., ,...\n",
              "13    [MENTION, It, it, counts,, idk, why, I, did, e...\n",
              "14    [MENTION, i, would've, been, the, first,, but,...\n",
              "15    [MENTION, I, wish, I, got, to, watch, it, with...\n",
              "16    [Hollis', death, scene, will, hurt, me, severe...\n",
              "17                             [about, to, file, tax, ]\n",
              "18    [MENTION, ahh, ive, always, wanted, to, see, r...\n",
              "19    [MENTION, Oh, dear., Were, you, drinking, out,...\n",
              "Name: text, dtype: object"
            ]
          },
          "metadata": {},
          "execution_count": 7
        }
      ]
    },
    {
      "cell_type": "markdown",
      "source": [
        "# Text to number sequence"
      ],
      "metadata": {
        "id": "qTlee0Ant3pp"
      }
    },
    {
      "cell_type": "code",
      "source": [
        "all_words = [word for tokens in data['text'] for word in tokens]\n",
        "word_counts = Counter(all_words)\n",
        "word_to_index = {word: i+1 for i, (word, _) in enumerate(word_counts.items())}\n",
        "word_to_index['<PAD>'] = 0\n",
        "\n",
        "data['text'] = data['text'].apply(lambda tokens: [word_to_index[word] for word in tokens])"
      ],
      "metadata": {
        "id": "hs8n9Oygt1fS"
      },
      "execution_count": null,
      "outputs": []
    },
    {
      "cell_type": "code",
      "source": [
        "max_len = data['text'].apply(lambda x: len(x)).max()\n",
        "print(max_len)\n",
        "def pad_sequence(seq, max_len):\n",
        "    return [word_to_index['<PAD>']] * (max_len - len(seq)) + seq\n",
        "\n",
        "data['text'] = data['text'].apply(lambda x: pad_sequence(x, max_len))"
      ],
      "metadata": {
        "colab": {
          "base_uri": "https://localhost:8080/"
        },
        "id": "sNvjVB3Pt7G4",
        "outputId": "5f916d61-070d-4e32-93f4-956edcdff8cd"
      },
      "execution_count": null,
      "outputs": [
        {
          "output_type": "stream",
          "name": "stdout",
          "text": [
            "110\n"
          ]
        }
      ]
    },
    {
      "cell_type": "markdown",
      "source": [
        "# Word embedding"
      ],
      "metadata": {
        "id": "XqFXEJRnuDVo"
      }
    },
    {
      "cell_type": "code",
      "source": [
        "drive.mount('/content/drive')\n",
        "model_path = '/content/drive/MyDrive/models/word2vec-google-news-300'\n",
        "\n",
        "if (True) :\n",
        "  w2v = gensim.models.KeyedVectors.load(model_path)\n",
        "else :\n",
        "  w2v = api.load('word2vec-google-news-300')\n",
        "  w2v.save(model_path)"
      ],
      "metadata": {
        "colab": {
          "base_uri": "https://localhost:8080/"
        },
        "id": "AtBv1HRouB8y",
        "outputId": "2785d2f3-0fc9-481d-94a0-e53ccc54366b"
      },
      "execution_count": null,
      "outputs": [
        {
          "output_type": "stream",
          "name": "stdout",
          "text": [
            "Mounted at /content/drive\n"
          ]
        }
      ]
    },
    {
      "cell_type": "code",
      "source": [
        "embedding_dim = w2v.vector_size\n",
        "vocab_size = len(word_to_index)\n",
        "unknown_count = 0\n",
        "embedding_matrix = torch.zeros((vocab_size, embedding_dim))\n",
        "for word, index in word_to_index.items():\n",
        "    if word in w2v:\n",
        "        embedding_matrix[index] = torch.tensor(w2v[word])\n",
        "    else:\n",
        "        embedding_matrix[index] = torch.rand(embedding_dim)\n",
        "        unknown_count += 1\n",
        "\n",
        "print(unknown_count)\n",
        "embedding_matrix.shape"
      ],
      "metadata": {
        "colab": {
          "base_uri": "https://localhost:8080/"
        },
        "id": "ccSPtpvnuQP3",
        "outputId": "e52cbe7e-5556-409b-a921-5780e1f624ee"
      },
      "execution_count": null,
      "outputs": [
        {
          "output_type": "stream",
          "name": "stdout",
          "text": [
            "766978\n"
          ]
        },
        {
          "output_type": "execute_result",
          "data": {
            "text/plain": [
              "torch.Size([892350, 300])"
            ]
          },
          "metadata": {},
          "execution_count": 11
        }
      ]
    },
    {
      "cell_type": "markdown",
      "source": [
        "# Free up memory"
      ],
      "metadata": {
        "id": "ITE5zeUauaB_"
      }
    },
    {
      "cell_type": "code",
      "source": [
        "# del w2v\n",
        "# del all_words\n",
        "# del word_counts\n",
        "\n",
        "import gc\n",
        "gc.collect()"
      ],
      "metadata": {
        "id": "qCOJkV05uaim",
        "colab": {
          "base_uri": "https://localhost:8080/"
        },
        "outputId": "3d5810e8-58ee-4a33-a747-966edb7008dd"
      },
      "execution_count": null,
      "outputs": [
        {
          "output_type": "execute_result",
          "data": {
            "text/plain": [
              "400"
            ]
          },
          "metadata": {},
          "execution_count": 26
        }
      ]
    },
    {
      "cell_type": "markdown",
      "source": [
        "# Train RNN"
      ],
      "metadata": {
        "id": "bqHiJrYCuiDe"
      }
    },
    {
      "cell_type": "code",
      "source": [
        "class MyDataset(Dataset):\n",
        "    def __init__(self, input_texts, input_labels):\n",
        "        self.texts = input_texts\n",
        "        self.labels = input_labels\n",
        "\n",
        "    def __len__(self):\n",
        "        return len(self.texts)\n",
        "\n",
        "    def __getitem__(self, idx):\n",
        "        return self.texts[idx], self.labels[idx]\n",
        "\n",
        "class MyRNN(nn.Module):\n",
        "    def __init__(self):\n",
        "        super(MyRNN, self).__init__()\n",
        "        embed_tmp = torch.tensor(embedding_matrix, dtype=torch.float32).clone().detach()\n",
        "        self.embedding = nn.Embedding.from_pretrained(embed_tmp, freeze=False, padding_idx=0)\n",
        "        self.rnn = nn.RNN(input_size=300, hidden_size=32, batch_first=True)\n",
        "        self.dense = nn.Linear(32, 1)\n",
        "\n",
        "    def forward(self, x):\n",
        "        embedded = self.embedding(x)\n",
        "        output, hidden = self.rnn(embedded)\n",
        "        out = self.dense(output[:, -1, :])\n",
        "        return out"
      ],
      "metadata": {
        "id": "x6gADMruuhg3"
      },
      "execution_count": null,
      "outputs": []
    },
    {
      "cell_type": "code",
      "source": [
        "# Check for GPU\n",
        "device = torch.device(\"cuda\" if torch.cuda.is_available() else \"cpu\")\n",
        "print(f\"Using device: {device}\")\n",
        "\n",
        "model = MyRNN().to(device)\n",
        "criterion = nn.BCEWithLogitsLoss()\n",
        "optimizer = optim.Adam(model.parameters())\n",
        "\n",
        "x_tensor = torch.tensor(data['text'].tolist(), dtype=torch.long).to(device)\n",
        "y_tensor = torch.tensor(data['sentiment'].tolist(), dtype=torch.float32).to(device)\n",
        "x_train, x_test, y_train, y_test = train_test_split(x_tensor, y_tensor, test_size=0.2)\n",
        "\n",
        "train_dataset = MyDataset(x_train, y_train)\n",
        "test_dataset = MyDataset(x_test, y_test)\n",
        "\n",
        "train_loader = DataLoader(train_dataset, batch_size=512, shuffle=True)\n",
        "test_loader = DataLoader(test_dataset, batch_size=512, shuffle=False)"
      ],
      "metadata": {
        "id": "zVaQjbGDukOr",
        "colab": {
          "base_uri": "https://localhost:8080/"
        },
        "outputId": "68d0f5a9-3def-4882-e8d5-9461c1f13c02"
      },
      "execution_count": null,
      "outputs": [
        {
          "output_type": "stream",
          "name": "stdout",
          "text": [
            "Using device: cuda\n"
          ]
        },
        {
          "output_type": "stream",
          "name": "stderr",
          "text": [
            "<ipython-input-28-192d368da4da>:15: UserWarning: To copy construct from a tensor, it is recommended to use sourceTensor.clone().detach() or sourceTensor.clone().detach().requires_grad_(True), rather than torch.tensor(sourceTensor).\n",
            "  embed_tmp = torch.tensor(embedding_matrix, dtype=torch.float32).clone().detach()\n"
          ]
        }
      ]
    },
    {
      "cell_type": "code",
      "source": [
        "\n",
        "epochs = 5\n",
        "loss_list = []\n",
        "for epoch in range(epochs):\n",
        "    model.train()\n",
        "    iter = 0\n",
        "    for inputs, labels in train_loader:\n",
        "        optimizer.zero_grad()\n",
        "        outputs = model(inputs)\n",
        "        loss = criterion(outputs.squeeze(dim=1), labels)\n",
        "        loss.backward()\n",
        "        optimizer.step()\n",
        "        iter += 1\n",
        "        if iter % 100 == 0:\n",
        "          print(f\"iter {iter}/ {len(train_loader)}\")\n",
        "    loss_list.append(loss.item())\n",
        "\n",
        "    print(f'Epoch {epoch+1}/{epochs}, Loss: {loss.item()}')\n"
      ],
      "metadata": {
        "id": "VvT7tQ2zuvIm",
        "colab": {
          "base_uri": "https://localhost:8080/"
        },
        "outputId": "5a004fac-6757-40d5-a9b3-007d8cbdcf88"
      },
      "execution_count": null,
      "outputs": [
        {
          "output_type": "stream",
          "name": "stdout",
          "text": [
            "iter 100/ 2500\n",
            "iter 200/ 2500\n",
            "iter 300/ 2500\n",
            "iter 400/ 2500\n",
            "iter 500/ 2500\n",
            "iter 600/ 2500\n",
            "iter 700/ 2500\n",
            "iter 800/ 2500\n",
            "iter 900/ 2500\n",
            "iter 1000/ 2500\n",
            "iter 1100/ 2500\n",
            "iter 1200/ 2500\n",
            "iter 1300/ 2500\n",
            "iter 1400/ 2500\n",
            "iter 1500/ 2500\n",
            "iter 1600/ 2500\n",
            "iter 1700/ 2500\n",
            "iter 1800/ 2500\n",
            "iter 1900/ 2500\n",
            "iter 2000/ 2500\n",
            "iter 2100/ 2500\n",
            "iter 2200/ 2500\n",
            "iter 2300/ 2500\n",
            "iter 2400/ 2500\n",
            "iter 2500/ 2500\n",
            "Epoch 1/5, Loss: 0.4063138961791992\n",
            "iter 100/ 2500\n",
            "iter 200/ 2500\n",
            "iter 300/ 2500\n",
            "iter 400/ 2500\n",
            "iter 500/ 2500\n",
            "iter 600/ 2500\n",
            "iter 700/ 2500\n",
            "iter 800/ 2500\n",
            "iter 900/ 2500\n",
            "iter 1000/ 2500\n",
            "iter 1100/ 2500\n",
            "iter 1200/ 2500\n",
            "iter 1300/ 2500\n",
            "iter 1400/ 2500\n",
            "iter 1500/ 2500\n",
            "iter 1600/ 2500\n",
            "iter 1700/ 2500\n",
            "iter 1800/ 2500\n",
            "iter 1900/ 2500\n",
            "iter 2000/ 2500\n",
            "iter 2100/ 2500\n",
            "iter 2200/ 2500\n",
            "iter 2300/ 2500\n",
            "iter 2400/ 2500\n",
            "iter 2500/ 2500\n",
            "Epoch 2/5, Loss: 0.285091757774353\n",
            "iter 100/ 2500\n",
            "iter 200/ 2500\n",
            "iter 300/ 2500\n",
            "iter 400/ 2500\n",
            "iter 500/ 2500\n",
            "iter 600/ 2500\n",
            "iter 700/ 2500\n",
            "iter 800/ 2500\n",
            "iter 900/ 2500\n",
            "iter 1000/ 2500\n",
            "iter 1100/ 2500\n",
            "iter 1200/ 2500\n",
            "iter 1300/ 2500\n",
            "iter 1400/ 2500\n",
            "iter 1500/ 2500\n",
            "iter 1600/ 2500\n",
            "iter 1700/ 2500\n",
            "iter 1800/ 2500\n",
            "iter 1900/ 2500\n",
            "iter 2000/ 2500\n",
            "iter 2100/ 2500\n",
            "iter 2200/ 2500\n",
            "iter 2300/ 2500\n",
            "iter 2400/ 2500\n",
            "iter 2500/ 2500\n",
            "Epoch 3/5, Loss: 0.21537724137306213\n",
            "iter 100/ 2500\n",
            "iter 200/ 2500\n",
            "iter 300/ 2500\n",
            "iter 400/ 2500\n",
            "iter 500/ 2500\n",
            "iter 600/ 2500\n",
            "iter 700/ 2500\n",
            "iter 800/ 2500\n",
            "iter 900/ 2500\n",
            "iter 1000/ 2500\n",
            "iter 1100/ 2500\n",
            "iter 1200/ 2500\n",
            "iter 1300/ 2500\n",
            "iter 1400/ 2500\n",
            "iter 1500/ 2500\n",
            "iter 1600/ 2500\n",
            "iter 1700/ 2500\n",
            "iter 1800/ 2500\n",
            "iter 1900/ 2500\n",
            "iter 2000/ 2500\n",
            "iter 2100/ 2500\n",
            "iter 2200/ 2500\n",
            "iter 2300/ 2500\n",
            "iter 2400/ 2500\n",
            "iter 2500/ 2500\n",
            "Epoch 4/5, Loss: 0.22019349038600922\n",
            "iter 100/ 2500\n",
            "iter 200/ 2500\n",
            "iter 300/ 2500\n",
            "iter 400/ 2500\n",
            "iter 500/ 2500\n",
            "iter 600/ 2500\n",
            "iter 700/ 2500\n",
            "iter 800/ 2500\n",
            "iter 900/ 2500\n",
            "iter 1000/ 2500\n",
            "iter 1100/ 2500\n",
            "iter 1200/ 2500\n",
            "iter 1300/ 2500\n",
            "iter 1400/ 2500\n",
            "iter 1500/ 2500\n",
            "iter 1600/ 2500\n",
            "iter 1700/ 2500\n",
            "iter 1800/ 2500\n",
            "iter 1900/ 2500\n",
            "iter 2000/ 2500\n",
            "iter 2100/ 2500\n",
            "iter 2200/ 2500\n",
            "iter 2300/ 2500\n",
            "iter 2400/ 2500\n",
            "iter 2500/ 2500\n",
            "Epoch 5/5, Loss: 0.17888067662715912\n"
          ]
        }
      ]
    },
    {
      "cell_type": "code",
      "source": [
        "plt.plot(loss_list)\n",
        "plt.xlabel('Epoch')\n",
        "plt.ylabel('Loss')\n",
        "plt.title('Training Loss')\n",
        "plt.show()"
      ],
      "metadata": {
        "id": "uYej9R4HuwX1",
        "colab": {
          "base_uri": "https://localhost:8080/",
          "height": 472
        },
        "outputId": "fe93d750-f4d6-4c75-b142-b92bef1ac7c0"
      },
      "execution_count": null,
      "outputs": [
        {
          "output_type": "display_data",
          "data": {
            "text/plain": [
              "<Figure size 640x480 with 1 Axes>"
            ],
            "image/png": "[encoded data removed]"
          },
          "metadata": {}
        }
      ]
    },
    {
      "cell_type": "markdown",
      "source": [
        "#evaluation"
      ],
      "metadata": {
        "id": "n2tO208Pu02Q"
      }
    },
    {
      "cell_type": "code",
      "source": [
        "\n",
        "y_true = []\n",
        "y_pred = []\n",
        "\n",
        "model.eval()\n",
        "with torch.no_grad():\n",
        "    for inputs, labels in test_loader:\n",
        "        outputs = model(inputs)\n",
        "        predicted = torch.round(torch.sigmoid(outputs.squeeze(dim=1)))\n",
        "        y_true.extend(labels.tolist())\n",
        "        y_pred.extend(predicted.tolist())\n",
        "\n",
        "print(accuracy_score(y_true=y_true, y_pred=y_pred))\n",
        "print(classification_report(y_true=y_true, y_pred=y_pred))\n"
      ],
      "metadata": {
        "id": "bWw7DLiru2Dr",
        "colab": {
          "base_uri": "https://localhost:8080/"
        },
        "outputId": "b01acf97-fbd9-491d-d06e-2f506bb6ff84"
      },
      "execution_count": null,
      "outputs": [
        {
          "output_type": "stream",
          "name": "stdout",
          "text": [
            "0.806671875\n",
            "              precision    recall  f1-score   support\n",
            "\n",
            "         0.0       0.80      0.82      0.81    159920\n",
            "         1.0       0.82      0.79      0.80    160080\n",
            "\n",
            "    accuracy                           0.81    320000\n",
            "   macro avg       0.81      0.81      0.81    320000\n",
            "weighted avg       0.81      0.81      0.81    320000\n",
            "\n"
          ]
        }
      ]
    },
    {
      "cell_type": "code",
      "source": [
        "model_path = 'drive/MyDrive/models/rnn-81'\n",
        "torch.save(model, model_path)"
      ],
      "metadata": {
        "id": "kycze71V85bQ"
      },
      "execution_count": null,
      "outputs": []
    },
    {
      "cell_type": "code",
      "source": [
        "model = torch.load(model_path)\n",
        "model.eval()"
      ],
      "metadata": {
        "colab": {
          "base_uri": "https://localhost:8080/"
        },
        "id": "gYGDNmh--Xvu",
        "outputId": "c2de6231-8bae-4bfd-e3b6-6d699bb054e4"
      },
      "execution_count": null,
      "outputs": [
        {
          "output_type": "execute_result",
          "data": {
            "text/plain": [
              "MyRNN(\n",
              "  (embedding): Embedding(892350, 300, padding_idx=0)\n",
              "  (rnn): RNN(300, 32, batch_first=True)\n",
              "  (dense): Linear(in_features=32, out_features=1, bias=True)\n",
              ")"
            ]
          },
          "metadata": {},
          "execution_count": 36
        }
      ]
    },
    {
      "cell_type": "code",
      "source": [],
      "metadata": {
        "id": "KdZO1aja-lTr"
      },
      "execution_count": null,
      "outputs": []
    }
  ]
}